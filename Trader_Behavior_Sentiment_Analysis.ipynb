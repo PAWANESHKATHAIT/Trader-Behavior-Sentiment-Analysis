{
 "cells": [
  {
   "cell_type": "code",
   "execution_count": 1,
   "id": "7cf00300-140b-4a78-8ed7-7b6d6fe318cf",
   "metadata": {},
   "outputs": [],
   "source": [
    "import pandas as pd"
   ]
  },
  {
   "cell_type": "code",
   "execution_count": 2,
   "id": "2efd3317-9793-4199-a904-8cf622ba2a2b",
   "metadata": {},
   "outputs": [],
   "source": [
    "historical_data_path = 'historical_data.csv'\n",
    "fear_greed_path = 'fear_greed_index.csv'"
   ]
  },
  {
   "cell_type": "code",
   "execution_count": 3,
   "id": "9a883069-a596-4f31-aeb7-db5b73d1229b",
   "metadata": {},
   "outputs": [
    {
     "name": "stdout",
     "output_type": "stream",
     "text": [
      "Datasets loaded successfully!\n"
     ]
    }
   ],
   "source": [
    "# Load the datasets\n",
    "try:\n",
    "    df_trader = pd.read_csv(historical_data_path)\n",
    "    df_sentiment = pd.read_csv(fear_greed_path)\n",
    "    print(\"Datasets loaded successfully!\")\n",
    "except FileNotFoundError:\n",
    "    print(\"Error: Make sure 'historical_data.csv' and 'fear_greed_index.csv' are in the same directory.\")\n",
    "    # Exit or provide instructions to the user to place the files correctly\n",
    "    exit()"
   ]
  },
  {
   "cell_type": "code",
   "execution_count": 5,
   "id": "9057112b-27a2-43ef-92a9-ada4b4038f61",
   "metadata": {},
   "outputs": [
    {
     "data": {
      "text/html": [
       "<div>\n",
       "<style scoped>\n",
       "    .dataframe tbody tr th:only-of-type {\n",
       "        vertical-align: middle;\n",
       "    }\n",
       "\n",
       "    .dataframe tbody tr th {\n",
       "        vertical-align: top;\n",
       "    }\n",
       "\n",
       "    .dataframe thead th {\n",
       "        text-align: right;\n",
       "    }\n",
       "</style>\n",
       "<table border=\"1\" class=\"dataframe\">\n",
       "  <thead>\n",
       "    <tr style=\"text-align: right;\">\n",
       "      <th></th>\n",
       "      <th>Account</th>\n",
       "      <th>Coin</th>\n",
       "      <th>Execution Price</th>\n",
       "      <th>Size Tokens</th>\n",
       "      <th>Size USD</th>\n",
       "      <th>Side</th>\n",
       "      <th>Timestamp IST</th>\n",
       "      <th>Start Position</th>\n",
       "      <th>Direction</th>\n",
       "      <th>Closed PnL</th>\n",
       "      <th>Transaction Hash</th>\n",
       "      <th>Order ID</th>\n",
       "      <th>Crossed</th>\n",
       "      <th>Fee</th>\n",
       "      <th>Trade ID</th>\n",
       "      <th>Timestamp</th>\n",
       "    </tr>\n",
       "  </thead>\n",
       "  <tbody>\n",
       "    <tr>\n",
       "      <th>0</th>\n",
       "      <td>0xae5eacaf9c6b9111fd53034a602c192a04e082ed</td>\n",
       "      <td>@107</td>\n",
       "      <td>7.9769</td>\n",
       "      <td>986.87</td>\n",
       "      <td>7872.16</td>\n",
       "      <td>BUY</td>\n",
       "      <td>02-12-2024 22:50</td>\n",
       "      <td>0.000000</td>\n",
       "      <td>Buy</td>\n",
       "      <td>0.0</td>\n",
       "      <td>0xec09451986a1874e3a980418412fcd0201f500c95bac...</td>\n",
       "      <td>52017706630</td>\n",
       "      <td>True</td>\n",
       "      <td>0.345404</td>\n",
       "      <td>8.950000e+14</td>\n",
       "      <td>1.730000e+12</td>\n",
       "    </tr>\n",
       "    <tr>\n",
       "      <th>1</th>\n",
       "      <td>0xae5eacaf9c6b9111fd53034a602c192a04e082ed</td>\n",
       "      <td>@107</td>\n",
       "      <td>7.9800</td>\n",
       "      <td>16.00</td>\n",
       "      <td>127.68</td>\n",
       "      <td>BUY</td>\n",
       "      <td>02-12-2024 22:50</td>\n",
       "      <td>986.524596</td>\n",
       "      <td>Buy</td>\n",
       "      <td>0.0</td>\n",
       "      <td>0xec09451986a1874e3a980418412fcd0201f500c95bac...</td>\n",
       "      <td>52017706630</td>\n",
       "      <td>True</td>\n",
       "      <td>0.005600</td>\n",
       "      <td>4.430000e+14</td>\n",
       "      <td>1.730000e+12</td>\n",
       "    </tr>\n",
       "    <tr>\n",
       "      <th>2</th>\n",
       "      <td>0xae5eacaf9c6b9111fd53034a602c192a04e082ed</td>\n",
       "      <td>@107</td>\n",
       "      <td>7.9855</td>\n",
       "      <td>144.09</td>\n",
       "      <td>1150.63</td>\n",
       "      <td>BUY</td>\n",
       "      <td>02-12-2024 22:50</td>\n",
       "      <td>1002.518996</td>\n",
       "      <td>Buy</td>\n",
       "      <td>0.0</td>\n",
       "      <td>0xec09451986a1874e3a980418412fcd0201f500c95bac...</td>\n",
       "      <td>52017706630</td>\n",
       "      <td>True</td>\n",
       "      <td>0.050431</td>\n",
       "      <td>6.600000e+14</td>\n",
       "      <td>1.730000e+12</td>\n",
       "    </tr>\n",
       "    <tr>\n",
       "      <th>3</th>\n",
       "      <td>0xae5eacaf9c6b9111fd53034a602c192a04e082ed</td>\n",
       "      <td>@107</td>\n",
       "      <td>7.9874</td>\n",
       "      <td>142.98</td>\n",
       "      <td>1142.04</td>\n",
       "      <td>BUY</td>\n",
       "      <td>02-12-2024 22:50</td>\n",
       "      <td>1146.558564</td>\n",
       "      <td>Buy</td>\n",
       "      <td>0.0</td>\n",
       "      <td>0xec09451986a1874e3a980418412fcd0201f500c95bac...</td>\n",
       "      <td>52017706630</td>\n",
       "      <td>True</td>\n",
       "      <td>0.050043</td>\n",
       "      <td>1.080000e+15</td>\n",
       "      <td>1.730000e+12</td>\n",
       "    </tr>\n",
       "    <tr>\n",
       "      <th>4</th>\n",
       "      <td>0xae5eacaf9c6b9111fd53034a602c192a04e082ed</td>\n",
       "      <td>@107</td>\n",
       "      <td>7.9894</td>\n",
       "      <td>8.73</td>\n",
       "      <td>69.75</td>\n",
       "      <td>BUY</td>\n",
       "      <td>02-12-2024 22:50</td>\n",
       "      <td>1289.488521</td>\n",
       "      <td>Buy</td>\n",
       "      <td>0.0</td>\n",
       "      <td>0xec09451986a1874e3a980418412fcd0201f500c95bac...</td>\n",
       "      <td>52017706630</td>\n",
       "      <td>True</td>\n",
       "      <td>0.003055</td>\n",
       "      <td>1.050000e+15</td>\n",
       "      <td>1.730000e+12</td>\n",
       "    </tr>\n",
       "  </tbody>\n",
       "</table>\n",
       "</div>"
      ],
      "text/plain": [
       "                                      Account  Coin  Execution Price  \\\n",
       "0  0xae5eacaf9c6b9111fd53034a602c192a04e082ed  @107           7.9769   \n",
       "1  0xae5eacaf9c6b9111fd53034a602c192a04e082ed  @107           7.9800   \n",
       "2  0xae5eacaf9c6b9111fd53034a602c192a04e082ed  @107           7.9855   \n",
       "3  0xae5eacaf9c6b9111fd53034a602c192a04e082ed  @107           7.9874   \n",
       "4  0xae5eacaf9c6b9111fd53034a602c192a04e082ed  @107           7.9894   \n",
       "\n",
       "   Size Tokens  Size USD Side     Timestamp IST  Start Position Direction  \\\n",
       "0       986.87   7872.16  BUY  02-12-2024 22:50        0.000000       Buy   \n",
       "1        16.00    127.68  BUY  02-12-2024 22:50      986.524596       Buy   \n",
       "2       144.09   1150.63  BUY  02-12-2024 22:50     1002.518996       Buy   \n",
       "3       142.98   1142.04  BUY  02-12-2024 22:50     1146.558564       Buy   \n",
       "4         8.73     69.75  BUY  02-12-2024 22:50     1289.488521       Buy   \n",
       "\n",
       "   Closed PnL                                   Transaction Hash     Order ID  \\\n",
       "0         0.0  0xec09451986a1874e3a980418412fcd0201f500c95bac...  52017706630   \n",
       "1         0.0  0xec09451986a1874e3a980418412fcd0201f500c95bac...  52017706630   \n",
       "2         0.0  0xec09451986a1874e3a980418412fcd0201f500c95bac...  52017706630   \n",
       "3         0.0  0xec09451986a1874e3a980418412fcd0201f500c95bac...  52017706630   \n",
       "4         0.0  0xec09451986a1874e3a980418412fcd0201f500c95bac...  52017706630   \n",
       "\n",
       "   Crossed       Fee      Trade ID     Timestamp  \n",
       "0     True  0.345404  8.950000e+14  1.730000e+12  \n",
       "1     True  0.005600  4.430000e+14  1.730000e+12  \n",
       "2     True  0.050431  6.600000e+14  1.730000e+12  \n",
       "3     True  0.050043  1.080000e+15  1.730000e+12  \n",
       "4     True  0.003055  1.050000e+15  1.730000e+12  "
      ]
     },
     "execution_count": 5,
     "metadata": {},
     "output_type": "execute_result"
    }
   ],
   "source": [
    "df_trader.head()"
   ]
  },
  {
   "cell_type": "code",
   "execution_count": 6,
   "id": "542068e8-75eb-4db7-8f5f-9e7013dab292",
   "metadata": {},
   "outputs": [
    {
     "name": "stdout",
     "output_type": "stream",
     "text": [
      "<class 'pandas.core.frame.DataFrame'>\n",
      "RangeIndex: 211224 entries, 0 to 211223\n",
      "Data columns (total 16 columns):\n",
      " #   Column            Non-Null Count   Dtype  \n",
      "---  ------            --------------   -----  \n",
      " 0   Account           211224 non-null  object \n",
      " 1   Coin              211224 non-null  object \n",
      " 2   Execution Price   211224 non-null  float64\n",
      " 3   Size Tokens       211224 non-null  float64\n",
      " 4   Size USD          211224 non-null  float64\n",
      " 5   Side              211224 non-null  object \n",
      " 6   Timestamp IST     211224 non-null  object \n",
      " 7   Start Position    211224 non-null  float64\n",
      " 8   Direction         211224 non-null  object \n",
      " 9   Closed PnL        211224 non-null  float64\n",
      " 10  Transaction Hash  211224 non-null  object \n",
      " 11  Order ID          211224 non-null  int64  \n",
      " 12  Crossed           211224 non-null  bool   \n",
      " 13  Fee               211224 non-null  float64\n",
      " 14  Trade ID          211224 non-null  float64\n",
      " 15  Timestamp         211224 non-null  float64\n",
      "dtypes: bool(1), float64(8), int64(1), object(6)\n",
      "memory usage: 24.4+ MB\n"
     ]
    }
   ],
   "source": [
    "df_trader.info()"
   ]
  },
  {
   "cell_type": "code",
   "execution_count": 7,
   "id": "56a349b3-390f-43bd-9e22-37c7dbba054c",
   "metadata": {},
   "outputs": [
    {
     "data": {
      "text/plain": [
       "Account             0\n",
       "Coin                0\n",
       "Execution Price     0\n",
       "Size Tokens         0\n",
       "Size USD            0\n",
       "Side                0\n",
       "Timestamp IST       0\n",
       "Start Position      0\n",
       "Direction           0\n",
       "Closed PnL          0\n",
       "Transaction Hash    0\n",
       "Order ID            0\n",
       "Crossed             0\n",
       "Fee                 0\n",
       "Trade ID            0\n",
       "Timestamp           0\n",
       "dtype: int64"
      ]
     },
     "execution_count": 7,
     "metadata": {},
     "output_type": "execute_result"
    }
   ],
   "source": [
    "df_trader.isnull().sum()"
   ]
  },
  {
   "cell_type": "code",
   "execution_count": 8,
   "id": "60bfe03f-6ba9-457e-a3db-96b5cb506b5b",
   "metadata": {},
   "outputs": [
    {
     "data": {
      "text/html": [
       "<div>\n",
       "<style scoped>\n",
       "    .dataframe tbody tr th:only-of-type {\n",
       "        vertical-align: middle;\n",
       "    }\n",
       "\n",
       "    .dataframe tbody tr th {\n",
       "        vertical-align: top;\n",
       "    }\n",
       "\n",
       "    .dataframe thead th {\n",
       "        text-align: right;\n",
       "    }\n",
       "</style>\n",
       "<table border=\"1\" class=\"dataframe\">\n",
       "  <thead>\n",
       "    <tr style=\"text-align: right;\">\n",
       "      <th></th>\n",
       "      <th>timestamp</th>\n",
       "      <th>value</th>\n",
       "      <th>classification</th>\n",
       "      <th>date</th>\n",
       "    </tr>\n",
       "  </thead>\n",
       "  <tbody>\n",
       "    <tr>\n",
       "      <th>0</th>\n",
       "      <td>1517463000</td>\n",
       "      <td>30</td>\n",
       "      <td>Fear</td>\n",
       "      <td>2018-02-01</td>\n",
       "    </tr>\n",
       "    <tr>\n",
       "      <th>1</th>\n",
       "      <td>1517549400</td>\n",
       "      <td>15</td>\n",
       "      <td>Extreme Fear</td>\n",
       "      <td>2018-02-02</td>\n",
       "    </tr>\n",
       "    <tr>\n",
       "      <th>2</th>\n",
       "      <td>1517635800</td>\n",
       "      <td>40</td>\n",
       "      <td>Fear</td>\n",
       "      <td>2018-02-03</td>\n",
       "    </tr>\n",
       "    <tr>\n",
       "      <th>3</th>\n",
       "      <td>1517722200</td>\n",
       "      <td>24</td>\n",
       "      <td>Extreme Fear</td>\n",
       "      <td>2018-02-04</td>\n",
       "    </tr>\n",
       "    <tr>\n",
       "      <th>4</th>\n",
       "      <td>1517808600</td>\n",
       "      <td>11</td>\n",
       "      <td>Extreme Fear</td>\n",
       "      <td>2018-02-05</td>\n",
       "    </tr>\n",
       "  </tbody>\n",
       "</table>\n",
       "</div>"
      ],
      "text/plain": [
       "    timestamp  value classification        date\n",
       "0  1517463000     30           Fear  2018-02-01\n",
       "1  1517549400     15   Extreme Fear  2018-02-02\n",
       "2  1517635800     40           Fear  2018-02-03\n",
       "3  1517722200     24   Extreme Fear  2018-02-04\n",
       "4  1517808600     11   Extreme Fear  2018-02-05"
      ]
     },
     "execution_count": 8,
     "metadata": {},
     "output_type": "execute_result"
    }
   ],
   "source": [
    "df_sentiment.head()"
   ]
  },
  {
   "cell_type": "code",
   "execution_count": 9,
   "id": "7fd1ac3e-6ece-4b9e-946f-2dc1212dea60",
   "metadata": {},
   "outputs": [
    {
     "name": "stdout",
     "output_type": "stream",
     "text": [
      "<class 'pandas.core.frame.DataFrame'>\n",
      "RangeIndex: 2644 entries, 0 to 2643\n",
      "Data columns (total 4 columns):\n",
      " #   Column          Non-Null Count  Dtype \n",
      "---  ------          --------------  ----- \n",
      " 0   timestamp       2644 non-null   int64 \n",
      " 1   value           2644 non-null   int64 \n",
      " 2   classification  2644 non-null   object\n",
      " 3   date            2644 non-null   object\n",
      "dtypes: int64(2), object(2)\n",
      "memory usage: 82.8+ KB\n"
     ]
    }
   ],
   "source": [
    "df_sentiment.info()"
   ]
  },
  {
   "cell_type": "code",
   "execution_count": 10,
   "id": "8216260d-c67a-4030-bc7e-cf6891c444fa",
   "metadata": {},
   "outputs": [
    {
     "data": {
      "text/plain": [
       "timestamp         0\n",
       "value             0\n",
       "classification    0\n",
       "date              0\n",
       "dtype: int64"
      ]
     },
     "execution_count": 10,
     "metadata": {},
     "output_type": "execute_result"
    }
   ],
   "source": [
    "df_sentiment.isnull().sum()"
   ]
  },
  {
   "cell_type": "code",
   "execution_count": null,
   "id": "28e9b369-af46-4e58-b1ce-6efb6aa50c64",
   "metadata": {},
   "outputs": [],
   "source": []
  },
  {
   "cell_type": "markdown",
   "id": "c4af62e0-1ae9-4532-9212-b72210f75876",
   "metadata": {},
   "source": [
    "### Date/Time Preprocessing"
   ]
  },
  {
   "cell_type": "code",
   "execution_count": 13,
   "id": "4308c23c-aad1-44e8-a387-4e3f7cf58bca",
   "metadata": {},
   "outputs": [],
   "source": [
    "# Convert 'Timestamp IST' in df_trader to datetime and then extract the date\n",
    "df_trader['Date'] = pd.to_datetime(df_trader['Timestamp IST'], format='%d-%m-%Y %H:%M').dt.date\n",
    "\n",
    "# Convert 'date' in df_sentiment to datetime\n",
    "df_sentiment['Date'] = pd.to_datetime(df_sentiment['date'], format='%Y-%m-%d').dt.date"
   ]
  },
  {
   "cell_type": "code",
   "execution_count": 15,
   "id": "47bda26d-5328-43f9-8bb0-9bd9fe071690",
   "metadata": {},
   "outputs": [
    {
     "data": {
      "text/plain": [
       "dtype('O')"
      ]
     },
     "execution_count": 15,
     "metadata": {},
     "output_type": "execute_result"
    }
   ],
   "source": [
    "df_trader['Date'].dtype"
   ]
  },
  {
   "cell_type": "code",
   "execution_count": 16,
   "id": "bc97b0fc-1f98-4a55-b1d4-fd49037056a6",
   "metadata": {},
   "outputs": [
    {
     "data": {
      "text/plain": [
       "dtype('O')"
      ]
     },
     "execution_count": 16,
     "metadata": {},
     "output_type": "execute_result"
    }
   ],
   "source": [
    "df_sentiment['Date'].dtype"
   ]
  },
  {
   "cell_type": "code",
   "execution_count": 17,
   "id": "0b6c7914-25ad-4723-b54e-f93925e8a01b",
   "metadata": {},
   "outputs": [
    {
     "data": {
      "text/html": [
       "<div>\n",
       "<style scoped>\n",
       "    .dataframe tbody tr th:only-of-type {\n",
       "        vertical-align: middle;\n",
       "    }\n",
       "\n",
       "    .dataframe tbody tr th {\n",
       "        vertical-align: top;\n",
       "    }\n",
       "\n",
       "    .dataframe thead th {\n",
       "        text-align: right;\n",
       "    }\n",
       "</style>\n",
       "<table border=\"1\" class=\"dataframe\">\n",
       "  <thead>\n",
       "    <tr style=\"text-align: right;\">\n",
       "      <th></th>\n",
       "      <th>Timestamp IST</th>\n",
       "      <th>Date</th>\n",
       "    </tr>\n",
       "  </thead>\n",
       "  <tbody>\n",
       "    <tr>\n",
       "      <th>0</th>\n",
       "      <td>02-12-2024 22:50</td>\n",
       "      <td>2024-12-02</td>\n",
       "    </tr>\n",
       "    <tr>\n",
       "      <th>1</th>\n",
       "      <td>02-12-2024 22:50</td>\n",
       "      <td>2024-12-02</td>\n",
       "    </tr>\n",
       "    <tr>\n",
       "      <th>2</th>\n",
       "      <td>02-12-2024 22:50</td>\n",
       "      <td>2024-12-02</td>\n",
       "    </tr>\n",
       "    <tr>\n",
       "      <th>3</th>\n",
       "      <td>02-12-2024 22:50</td>\n",
       "      <td>2024-12-02</td>\n",
       "    </tr>\n",
       "    <tr>\n",
       "      <th>4</th>\n",
       "      <td>02-12-2024 22:50</td>\n",
       "      <td>2024-12-02</td>\n",
       "    </tr>\n",
       "  </tbody>\n",
       "</table>\n",
       "</div>"
      ],
      "text/plain": [
       "      Timestamp IST        Date\n",
       "0  02-12-2024 22:50  2024-12-02\n",
       "1  02-12-2024 22:50  2024-12-02\n",
       "2  02-12-2024 22:50  2024-12-02\n",
       "3  02-12-2024 22:50  2024-12-02\n",
       "4  02-12-2024 22:50  2024-12-02"
      ]
     },
     "execution_count": 17,
     "metadata": {},
     "output_type": "execute_result"
    }
   ],
   "source": [
    "df_trader[['Timestamp IST', 'Date']].head()"
   ]
  },
  {
   "cell_type": "code",
   "execution_count": 18,
   "id": "af3df6a3-0f79-4949-801d-1506f85f1dc0",
   "metadata": {},
   "outputs": [
    {
     "data": {
      "text/html": [
       "<div>\n",
       "<style scoped>\n",
       "    .dataframe tbody tr th:only-of-type {\n",
       "        vertical-align: middle;\n",
       "    }\n",
       "\n",
       "    .dataframe tbody tr th {\n",
       "        vertical-align: top;\n",
       "    }\n",
       "\n",
       "    .dataframe thead th {\n",
       "        text-align: right;\n",
       "    }\n",
       "</style>\n",
       "<table border=\"1\" class=\"dataframe\">\n",
       "  <thead>\n",
       "    <tr style=\"text-align: right;\">\n",
       "      <th></th>\n",
       "      <th>date</th>\n",
       "      <th>Date</th>\n",
       "    </tr>\n",
       "  </thead>\n",
       "  <tbody>\n",
       "    <tr>\n",
       "      <th>0</th>\n",
       "      <td>2018-02-01</td>\n",
       "      <td>2018-02-01</td>\n",
       "    </tr>\n",
       "    <tr>\n",
       "      <th>1</th>\n",
       "      <td>2018-02-02</td>\n",
       "      <td>2018-02-02</td>\n",
       "    </tr>\n",
       "    <tr>\n",
       "      <th>2</th>\n",
       "      <td>2018-02-03</td>\n",
       "      <td>2018-02-03</td>\n",
       "    </tr>\n",
       "    <tr>\n",
       "      <th>3</th>\n",
       "      <td>2018-02-04</td>\n",
       "      <td>2018-02-04</td>\n",
       "    </tr>\n",
       "    <tr>\n",
       "      <th>4</th>\n",
       "      <td>2018-02-05</td>\n",
       "      <td>2018-02-05</td>\n",
       "    </tr>\n",
       "  </tbody>\n",
       "</table>\n",
       "</div>"
      ],
      "text/plain": [
       "         date        Date\n",
       "0  2018-02-01  2018-02-01\n",
       "1  2018-02-02  2018-02-02\n",
       "2  2018-02-03  2018-02-03\n",
       "3  2018-02-04  2018-02-04\n",
       "4  2018-02-05  2018-02-05"
      ]
     },
     "execution_count": 18,
     "metadata": {},
     "output_type": "execute_result"
    }
   ],
   "source": [
    "df_sentiment[['date', 'Date']].head()"
   ]
  },
  {
   "cell_type": "markdown",
   "id": "e79025e5-8840-4102-b3ce-f4496c299d39",
   "metadata": {},
   "source": [
    "### Data Merging"
   ]
  },
  {
   "cell_type": "code",
   "execution_count": 19,
   "id": "cbc9c1ac-b6d6-463f-b5d1-9a9b019eb237",
   "metadata": {},
   "outputs": [],
   "source": [
    "# Merge the datasets on the 'Date' column\n",
    "df_merged = pd.merge(df_trader, df_sentiment[['Date', 'classification', 'value']], on='Date', how='left')"
   ]
  },
  {
   "cell_type": "code",
   "execution_count": 20,
   "id": "71041f9f-9b70-4020-8a46-cd493e864760",
   "metadata": {},
   "outputs": [
    {
     "data": {
      "text/html": [
       "<div>\n",
       "<style scoped>\n",
       "    .dataframe tbody tr th:only-of-type {\n",
       "        vertical-align: middle;\n",
       "    }\n",
       "\n",
       "    .dataframe tbody tr th {\n",
       "        vertical-align: top;\n",
       "    }\n",
       "\n",
       "    .dataframe thead th {\n",
       "        text-align: right;\n",
       "    }\n",
       "</style>\n",
       "<table border=\"1\" class=\"dataframe\">\n",
       "  <thead>\n",
       "    <tr style=\"text-align: right;\">\n",
       "      <th></th>\n",
       "      <th>Account</th>\n",
       "      <th>Coin</th>\n",
       "      <th>Execution Price</th>\n",
       "      <th>Size Tokens</th>\n",
       "      <th>Size USD</th>\n",
       "      <th>Side</th>\n",
       "      <th>Timestamp IST</th>\n",
       "      <th>Start Position</th>\n",
       "      <th>Direction</th>\n",
       "      <th>Closed PnL</th>\n",
       "      <th>Transaction Hash</th>\n",
       "      <th>Order ID</th>\n",
       "      <th>Crossed</th>\n",
       "      <th>Fee</th>\n",
       "      <th>Trade ID</th>\n",
       "      <th>Timestamp</th>\n",
       "      <th>Date</th>\n",
       "      <th>classification</th>\n",
       "      <th>value</th>\n",
       "    </tr>\n",
       "  </thead>\n",
       "  <tbody>\n",
       "    <tr>\n",
       "      <th>0</th>\n",
       "      <td>0xae5eacaf9c6b9111fd53034a602c192a04e082ed</td>\n",
       "      <td>@107</td>\n",
       "      <td>7.9769</td>\n",
       "      <td>986.87</td>\n",
       "      <td>7872.16</td>\n",
       "      <td>BUY</td>\n",
       "      <td>02-12-2024 22:50</td>\n",
       "      <td>0.000000</td>\n",
       "      <td>Buy</td>\n",
       "      <td>0.0</td>\n",
       "      <td>0xec09451986a1874e3a980418412fcd0201f500c95bac...</td>\n",
       "      <td>52017706630</td>\n",
       "      <td>True</td>\n",
       "      <td>0.345404</td>\n",
       "      <td>8.950000e+14</td>\n",
       "      <td>1.730000e+12</td>\n",
       "      <td>2024-12-02</td>\n",
       "      <td>Extreme Greed</td>\n",
       "      <td>80.0</td>\n",
       "    </tr>\n",
       "    <tr>\n",
       "      <th>1</th>\n",
       "      <td>0xae5eacaf9c6b9111fd53034a602c192a04e082ed</td>\n",
       "      <td>@107</td>\n",
       "      <td>7.9800</td>\n",
       "      <td>16.00</td>\n",
       "      <td>127.68</td>\n",
       "      <td>BUY</td>\n",
       "      <td>02-12-2024 22:50</td>\n",
       "      <td>986.524596</td>\n",
       "      <td>Buy</td>\n",
       "      <td>0.0</td>\n",
       "      <td>0xec09451986a1874e3a980418412fcd0201f500c95bac...</td>\n",
       "      <td>52017706630</td>\n",
       "      <td>True</td>\n",
       "      <td>0.005600</td>\n",
       "      <td>4.430000e+14</td>\n",
       "      <td>1.730000e+12</td>\n",
       "      <td>2024-12-02</td>\n",
       "      <td>Extreme Greed</td>\n",
       "      <td>80.0</td>\n",
       "    </tr>\n",
       "    <tr>\n",
       "      <th>2</th>\n",
       "      <td>0xae5eacaf9c6b9111fd53034a602c192a04e082ed</td>\n",
       "      <td>@107</td>\n",
       "      <td>7.9855</td>\n",
       "      <td>144.09</td>\n",
       "      <td>1150.63</td>\n",
       "      <td>BUY</td>\n",
       "      <td>02-12-2024 22:50</td>\n",
       "      <td>1002.518996</td>\n",
       "      <td>Buy</td>\n",
       "      <td>0.0</td>\n",
       "      <td>0xec09451986a1874e3a980418412fcd0201f500c95bac...</td>\n",
       "      <td>52017706630</td>\n",
       "      <td>True</td>\n",
       "      <td>0.050431</td>\n",
       "      <td>6.600000e+14</td>\n",
       "      <td>1.730000e+12</td>\n",
       "      <td>2024-12-02</td>\n",
       "      <td>Extreme Greed</td>\n",
       "      <td>80.0</td>\n",
       "    </tr>\n",
       "    <tr>\n",
       "      <th>3</th>\n",
       "      <td>0xae5eacaf9c6b9111fd53034a602c192a04e082ed</td>\n",
       "      <td>@107</td>\n",
       "      <td>7.9874</td>\n",
       "      <td>142.98</td>\n",
       "      <td>1142.04</td>\n",
       "      <td>BUY</td>\n",
       "      <td>02-12-2024 22:50</td>\n",
       "      <td>1146.558564</td>\n",
       "      <td>Buy</td>\n",
       "      <td>0.0</td>\n",
       "      <td>0xec09451986a1874e3a980418412fcd0201f500c95bac...</td>\n",
       "      <td>52017706630</td>\n",
       "      <td>True</td>\n",
       "      <td>0.050043</td>\n",
       "      <td>1.080000e+15</td>\n",
       "      <td>1.730000e+12</td>\n",
       "      <td>2024-12-02</td>\n",
       "      <td>Extreme Greed</td>\n",
       "      <td>80.0</td>\n",
       "    </tr>\n",
       "    <tr>\n",
       "      <th>4</th>\n",
       "      <td>0xae5eacaf9c6b9111fd53034a602c192a04e082ed</td>\n",
       "      <td>@107</td>\n",
       "      <td>7.9894</td>\n",
       "      <td>8.73</td>\n",
       "      <td>69.75</td>\n",
       "      <td>BUY</td>\n",
       "      <td>02-12-2024 22:50</td>\n",
       "      <td>1289.488521</td>\n",
       "      <td>Buy</td>\n",
       "      <td>0.0</td>\n",
       "      <td>0xec09451986a1874e3a980418412fcd0201f500c95bac...</td>\n",
       "      <td>52017706630</td>\n",
       "      <td>True</td>\n",
       "      <td>0.003055</td>\n",
       "      <td>1.050000e+15</td>\n",
       "      <td>1.730000e+12</td>\n",
       "      <td>2024-12-02</td>\n",
       "      <td>Extreme Greed</td>\n",
       "      <td>80.0</td>\n",
       "    </tr>\n",
       "  </tbody>\n",
       "</table>\n",
       "</div>"
      ],
      "text/plain": [
       "                                      Account  Coin  Execution Price  \\\n",
       "0  0xae5eacaf9c6b9111fd53034a602c192a04e082ed  @107           7.9769   \n",
       "1  0xae5eacaf9c6b9111fd53034a602c192a04e082ed  @107           7.9800   \n",
       "2  0xae5eacaf9c6b9111fd53034a602c192a04e082ed  @107           7.9855   \n",
       "3  0xae5eacaf9c6b9111fd53034a602c192a04e082ed  @107           7.9874   \n",
       "4  0xae5eacaf9c6b9111fd53034a602c192a04e082ed  @107           7.9894   \n",
       "\n",
       "   Size Tokens  Size USD Side     Timestamp IST  Start Position Direction  \\\n",
       "0       986.87   7872.16  BUY  02-12-2024 22:50        0.000000       Buy   \n",
       "1        16.00    127.68  BUY  02-12-2024 22:50      986.524596       Buy   \n",
       "2       144.09   1150.63  BUY  02-12-2024 22:50     1002.518996       Buy   \n",
       "3       142.98   1142.04  BUY  02-12-2024 22:50     1146.558564       Buy   \n",
       "4         8.73     69.75  BUY  02-12-2024 22:50     1289.488521       Buy   \n",
       "\n",
       "   Closed PnL                                   Transaction Hash     Order ID  \\\n",
       "0         0.0  0xec09451986a1874e3a980418412fcd0201f500c95bac...  52017706630   \n",
       "1         0.0  0xec09451986a1874e3a980418412fcd0201f500c95bac...  52017706630   \n",
       "2         0.0  0xec09451986a1874e3a980418412fcd0201f500c95bac...  52017706630   \n",
       "3         0.0  0xec09451986a1874e3a980418412fcd0201f500c95bac...  52017706630   \n",
       "4         0.0  0xec09451986a1874e3a980418412fcd0201f500c95bac...  52017706630   \n",
       "\n",
       "   Crossed       Fee      Trade ID     Timestamp        Date classification  \\\n",
       "0     True  0.345404  8.950000e+14  1.730000e+12  2024-12-02  Extreme Greed   \n",
       "1     True  0.005600  4.430000e+14  1.730000e+12  2024-12-02  Extreme Greed   \n",
       "2     True  0.050431  6.600000e+14  1.730000e+12  2024-12-02  Extreme Greed   \n",
       "3     True  0.050043  1.080000e+15  1.730000e+12  2024-12-02  Extreme Greed   \n",
       "4     True  0.003055  1.050000e+15  1.730000e+12  2024-12-02  Extreme Greed   \n",
       "\n",
       "   value  \n",
       "0   80.0  \n",
       "1   80.0  \n",
       "2   80.0  \n",
       "3   80.0  \n",
       "4   80.0  "
      ]
     },
     "execution_count": 20,
     "metadata": {},
     "output_type": "execute_result"
    }
   ],
   "source": [
    "df_merged.head()"
   ]
  },
  {
   "cell_type": "code",
   "execution_count": 21,
   "id": "171495e4-1951-4f84-9f99-9e1bdd644cf2",
   "metadata": {},
   "outputs": [
    {
     "name": "stdout",
     "output_type": "stream",
     "text": [
      "<class 'pandas.core.frame.DataFrame'>\n",
      "RangeIndex: 211224 entries, 0 to 211223\n",
      "Data columns (total 19 columns):\n",
      " #   Column            Non-Null Count   Dtype  \n",
      "---  ------            --------------   -----  \n",
      " 0   Account           211224 non-null  object \n",
      " 1   Coin              211224 non-null  object \n",
      " 2   Execution Price   211224 non-null  float64\n",
      " 3   Size Tokens       211224 non-null  float64\n",
      " 4   Size USD          211224 non-null  float64\n",
      " 5   Side              211224 non-null  object \n",
      " 6   Timestamp IST     211224 non-null  object \n",
      " 7   Start Position    211224 non-null  float64\n",
      " 8   Direction         211224 non-null  object \n",
      " 9   Closed PnL        211224 non-null  float64\n",
      " 10  Transaction Hash  211224 non-null  object \n",
      " 11  Order ID          211224 non-null  int64  \n",
      " 12  Crossed           211224 non-null  bool   \n",
      " 13  Fee               211224 non-null  float64\n",
      " 14  Trade ID          211224 non-null  float64\n",
      " 15  Timestamp         211224 non-null  float64\n",
      " 16  Date              211224 non-null  object \n",
      " 17  classification    211218 non-null  object \n",
      " 18  value             211218 non-null  float64\n",
      "dtypes: bool(1), float64(9), int64(1), object(8)\n",
      "memory usage: 29.2+ MB\n"
     ]
    }
   ],
   "source": [
    "df_merged.info()"
   ]
  },
  {
   "cell_type": "code",
   "execution_count": 22,
   "id": "3b5460c9-2152-4328-a14b-6ff4124e463d",
   "metadata": {},
   "outputs": [
    {
     "name": "stdout",
     "output_type": "stream",
     "text": [
      "classification    6\n",
      "value             6\n",
      "dtype: int64\n"
     ]
    }
   ],
   "source": [
    "print(df_merged[['classification', 'value']].isnull().sum())"
   ]
  },
  {
   "cell_type": "code",
   "execution_count": 23,
   "id": "0d7d7160-e55e-452d-9098-7903b5b306ec",
   "metadata": {},
   "outputs": [],
   "source": [
    "initial_rows = len(df_merged)\n",
    "df_merged.dropna(subset=['classification', 'value'], inplace=True)\n",
    "rows_after_drop = len(df_merged)"
   ]
  },
  {
   "cell_type": "code",
   "execution_count": 24,
   "id": "ab9ba316-3604-442b-a785-126f1f6c352f",
   "metadata": {},
   "outputs": [
    {
     "name": "stdout",
     "output_type": "stream",
     "text": [
      "Dropped 6 rows with missing sentiment data.\n",
      "Remaining rows in df_merged: 211218\n"
     ]
    }
   ],
   "source": [
    "print(f\"Dropped {initial_rows - rows_after_drop} rows with missing sentiment data.\")\n",
    "print(f\"Remaining rows in df_merged: {rows_after_drop}\")"
   ]
  },
  {
   "cell_type": "code",
   "execution_count": 25,
   "id": "81250cc4-d045-4fbe-9004-10a611f2b6a7",
   "metadata": {},
   "outputs": [],
   "source": [
    "# List of columns that should be numeric for calculations\n",
    "numeric_cols_for_analysis = [\n",
    "    'Execution Price',\n",
    "    'Size Tokens',\n",
    "    'Size USD',\n",
    "    'Closed PnL',\n",
    "    'Fee',\n",
    "    'value' # The numeric value from the Fear & Greed Index\n",
    "]\n"
   ]
  },
  {
   "cell_type": "code",
   "execution_count": 26,
   "id": "d33f58d8-c508-4061-b9c8-1e0486ac3d1a",
   "metadata": {},
   "outputs": [
    {
     "name": "stdout",
     "output_type": "stream",
     "text": [
      "<class 'pandas.core.frame.DataFrame'>\n",
      "Index: 211218 entries, 0 to 211223\n",
      "Data columns (total 6 columns):\n",
      " #   Column           Non-Null Count   Dtype  \n",
      "---  ------           --------------   -----  \n",
      " 0   Execution Price  211218 non-null  float64\n",
      " 1   Size Tokens      211218 non-null  float64\n",
      " 2   Size USD         211218 non-null  float64\n",
      " 3   Closed PnL       211218 non-null  float64\n",
      " 4   Fee              211218 non-null  float64\n",
      " 5   value            211218 non-null  float64\n",
      "dtypes: float64(6)\n",
      "memory usage: 11.3 MB\n"
     ]
    }
   ],
   "source": [
    "df_merged[numeric_cols_for_analysis].info()"
   ]
  },
  {
   "cell_type": "code",
   "execution_count": 27,
   "id": "02595712-cfcd-49aa-b7dd-c3aa20986e77",
   "metadata": {},
   "outputs": [],
   "source": [
    "# Iterate through the columns and convert them to numeric\n",
    "for col in numeric_cols_for_analysis:\n",
    "    if col in df_merged.columns: # Check if the column exists in the DataFrame\n",
    "        # pd.to_numeric will attempt to convert, and 'errors='coerce'' will\n",
    "        # turn any unconvertible values into NaN (Not a Number).\n",
    "        df_merged[col] = pd.to_numeric(df_merged[col], errors='coerce')\n",
    "    else:\n",
    "        print(f\"Warning: Column '{col}' not found in df_merged.\")\n"
   ]
  },
  {
   "cell_type": "code",
   "execution_count": 28,
   "id": "e9f4f58d-4ac2-4661-ba59-d10c62a754cc",
   "metadata": {},
   "outputs": [
    {
     "name": "stdout",
     "output_type": "stream",
     "text": [
      "<class 'pandas.core.frame.DataFrame'>\n",
      "Index: 211218 entries, 0 to 211223\n",
      "Data columns (total 6 columns):\n",
      " #   Column           Non-Null Count   Dtype  \n",
      "---  ------           --------------   -----  \n",
      " 0   Execution Price  211218 non-null  float64\n",
      " 1   Size Tokens      211218 non-null  float64\n",
      " 2   Size USD         211218 non-null  float64\n",
      " 3   Closed PnL       211218 non-null  float64\n",
      " 4   Fee              211218 non-null  float64\n",
      " 5   value            211218 non-null  float64\n",
      "dtypes: float64(6)\n",
      "memory usage: 11.3 MB\n"
     ]
    }
   ],
   "source": [
    "df_merged[numeric_cols_for_analysis].info()"
   ]
  },
  {
   "cell_type": "code",
   "execution_count": 29,
   "id": "f02f94b3-0dcb-41cc-ae73-781df6321fc2",
   "metadata": {},
   "outputs": [
    {
     "data": {
      "text/plain": [
       "Execution Price    0\n",
       "Size Tokens        0\n",
       "Size USD           0\n",
       "Closed PnL         0\n",
       "Fee                0\n",
       "value              0\n",
       "dtype: int64"
      ]
     },
     "execution_count": 29,
     "metadata": {},
     "output_type": "execute_result"
    }
   ],
   "source": [
    "df_merged[numeric_cols_for_analysis].isnull().sum()"
   ]
  },
  {
   "cell_type": "code",
   "execution_count": 33,
   "id": "861d23ca-e44e-4617-b024-38d0493d053f",
   "metadata": {},
   "outputs": [],
   "source": [
    "# For example, if a trade has no valid 'Closed PnL', it's hard to analyze its performance.\n",
    "critical_numeric_for_dropna = ['Closed PnL', 'value']\n",
    "initial_rows_after_sentiment_drop = len(df_merged) # Use the current length after sentiment drop\n",
    "df_merged.dropna(subset=critical_numeric_for_dropna, inplace=True)\n",
    "rows_after_numeric_dropna = len(df_merged)\n",
    "\n",
    "if (initial_rows_after_sentiment_drop - rows_after_numeric_dropna) > 0:\n",
    "    print(f\"\\nDropped {initial_rows_after_sentiment_drop - rows_after_numeric_dropna} rows where critical numeric columns became NaN after conversion.\")\n",
    "    print(f\"Remaining rows in df_merged: {rows_after_numeric_dropna}\")"
   ]
  },
  {
   "cell_type": "code",
   "execution_count": null,
   "id": "30fb28c2-ac7e-460b-b3d6-a63a3156381c",
   "metadata": {},
   "outputs": [],
   "source": []
  },
  {
   "cell_type": "markdown",
   "id": "7df8728a-42e2-41bd-9906-c1af0f4d49b1",
   "metadata": {},
   "source": [
    "### Feature Engineering"
   ]
  },
  {
   "cell_type": "code",
   "execution_count": 35,
   "id": "566d96af-4cec-40a9-bcb2-52cf9f3f4c8e",
   "metadata": {},
   "outputs": [
    {
     "name": "stdout",
     "output_type": "stream",
     "text": [
      "\n",
      "--- Engineered Features Preview (first 5 rows) ---\n",
      "         Date Day_of_Week  Closed PnL PnL_Category  Size USD  PnL_per_USD  \\\n",
      "0  2024-12-02      Monday         0.0    Breakeven   7872.16          0.0   \n",
      "1  2024-12-02      Monday         0.0    Breakeven    127.68          0.0   \n",
      "2  2024-12-02      Monday         0.0    Breakeven   1150.63          0.0   \n",
      "3  2024-12-02      Monday         0.0    Breakeven   1142.04          0.0   \n",
      "4  2024-12-02      Monday         0.0    Breakeven     69.75          0.0   \n",
      "\n",
      "   Hour_of_Day Time_Segment  \n",
      "0           22      Evening  \n",
      "1           22      Evening  \n",
      "2           22      Evening  \n",
      "3           22      Evening  \n",
      "4           22      Evening  \n"
     ]
    }
   ],
   "source": [
    "# Now, let's ensure it's a full datetime object for properties like .dt.day_name()\n",
    "df_merged['Date_dt'] = pd.to_datetime(df_merged['Date'])\n",
    "df_merged['Day_of_Week'] = df_merged['Date_dt'].dt.day_name()\n",
    "\n",
    "# 2. Categorize Trades by Profit/Loss\n",
    "df_merged['PnL_Category'] = df_merged['Closed PnL'].apply(\n",
    "    lambda x: 'Profitable' if x > 0 else ('Loss-making' if x < 0 else 'Breakeven')\n",
    ")\n",
    "\n",
    "# 3. Calculate Normalized PnL (PnL per USD)\n",
    "# Handle potential division by zero for 'Size USD' if it can be zero.\n",
    "# If Size USD is 0, PnL_per_USD will be 0, as no capital was effectively risked/used.\n",
    "df_merged['PnL_per_USD'] = df_merged.apply(\n",
    "    lambda row: row['Closed PnL'] / row['Size USD'] if row['Size USD'] != 0 else 0,\n",
    "    axis=1\n",
    ")\n",
    "\n",
    "# 4. Extract Hour of Day and categorize into segments (Optional but useful)\n",
    "# Convert 'Timestamp IST' to datetime to get the hour\n",
    "df_merged['Timestamp_full_dt'] = pd.to_datetime(df_merged['Timestamp IST'], format='%d-%m-%Y %H:%M', errors='coerce')\n",
    "df_merged['Hour_of_Day'] = df_merged['Timestamp_full_dt'].dt.hour\n",
    "\n",
    "# Define time segments\n",
    "def get_time_segment(hour):\n",
    "    if 6 <= hour < 12:\n",
    "        return 'Morning'\n",
    "    elif 12 <= hour < 18:\n",
    "        return 'Afternoon'\n",
    "    elif 18 <= hour < 24:\n",
    "        return 'Evening'\n",
    "    else:\n",
    "        return 'Night'\n",
    "\n",
    "df_merged['Time_Segment'] = df_merged['Hour_of_Day'].apply(get_time_segment)\n",
    "\n",
    "# Drop the temporary full datetime column if not needed later\n",
    "df_merged.drop('Timestamp_full_dt', axis=1, inplace=True)\n",
    "\n",
    "\n",
    "print(\"\\n--- Engineered Features Preview (first 5 rows) ---\")\n",
    "print(df_merged[[\n",
    "    'Date', 'Day_of_Week', 'Closed PnL', 'PnL_Category',\n",
    "    'Size USD', 'PnL_per_USD', 'Hour_of_Day', 'Time_Segment'\n",
    "]].head())"
   ]
  },
  {
   "cell_type": "code",
   "execution_count": 36,
   "id": "2cf40275-a98b-4bf9-9647-28fd1155135f",
   "metadata": {},
   "outputs": [
    {
     "name": "stdout",
     "output_type": "stream",
     "text": [
      "\n",
      "Day of Week Distribution:\n",
      "Day_of_Week\n",
      "Wednesday    39736\n",
      "Tuesday      36469\n",
      "Monday       34421\n",
      "Thursday     30439\n",
      "Friday       29624\n",
      "Saturday     20419\n",
      "Sunday       20110\n",
      "Name: count, dtype: int64\n",
      "\n",
      "PnL Category Distribution:\n",
      "PnL_Category\n",
      "Breakeven      106816\n",
      "Profitable      86863\n",
      "Loss-making     17539\n",
      "Name: count, dtype: int64\n",
      "\n",
      "Time Segment Distribution:\n",
      "Time_Segment\n",
      "Evening      66140\n",
      "Night        58589\n",
      "Morning      44933\n",
      "Afternoon    41556\n",
      "Name: count, dtype: int64\n"
     ]
    }
   ],
   "source": [
    "print(\"\\nDay of Week Distribution:\")\n",
    "print(df_merged['Day_of_Week'].value_counts())\n",
    "print(\"\\nPnL Category Distribution:\")\n",
    "print(df_merged['PnL_Category'].value_counts())\n",
    "print(\"\\nTime Segment Distribution:\")\n",
    "print(df_merged['Time_Segment'].value_counts())"
   ]
  },
  {
   "cell_type": "code",
   "execution_count": 38,
   "id": "4ebea6ca-f97f-46dc-8073-ff703b1c0854",
   "metadata": {},
   "outputs": [
    {
     "data": {
      "text/html": [
       "<div>\n",
       "<style scoped>\n",
       "    .dataframe tbody tr th:only-of-type {\n",
       "        vertical-align: middle;\n",
       "    }\n",
       "\n",
       "    .dataframe tbody tr th {\n",
       "        vertical-align: top;\n",
       "    }\n",
       "\n",
       "    .dataframe thead th {\n",
       "        text-align: right;\n",
       "    }\n",
       "</style>\n",
       "<table border=\"1\" class=\"dataframe\">\n",
       "  <thead>\n",
       "    <tr style=\"text-align: right;\">\n",
       "      <th></th>\n",
       "      <th>Account</th>\n",
       "      <th>Coin</th>\n",
       "      <th>Execution Price</th>\n",
       "      <th>Size Tokens</th>\n",
       "      <th>Size USD</th>\n",
       "      <th>Side</th>\n",
       "      <th>Timestamp IST</th>\n",
       "      <th>Start Position</th>\n",
       "      <th>Direction</th>\n",
       "      <th>Closed PnL</th>\n",
       "      <th>...</th>\n",
       "      <th>Timestamp</th>\n",
       "      <th>Date</th>\n",
       "      <th>classification</th>\n",
       "      <th>value</th>\n",
       "      <th>Date_dt</th>\n",
       "      <th>Day_of_Week</th>\n",
       "      <th>PnL_Category</th>\n",
       "      <th>PnL_per_USD</th>\n",
       "      <th>Hour_of_Day</th>\n",
       "      <th>Time_Segment</th>\n",
       "    </tr>\n",
       "  </thead>\n",
       "  <tbody>\n",
       "    <tr>\n",
       "      <th>0</th>\n",
       "      <td>0xae5eacaf9c6b9111fd53034a602c192a04e082ed</td>\n",
       "      <td>@107</td>\n",
       "      <td>7.9769</td>\n",
       "      <td>986.87</td>\n",
       "      <td>7872.16</td>\n",
       "      <td>BUY</td>\n",
       "      <td>02-12-2024 22:50</td>\n",
       "      <td>0.000000</td>\n",
       "      <td>Buy</td>\n",
       "      <td>0.0</td>\n",
       "      <td>...</td>\n",
       "      <td>1.730000e+12</td>\n",
       "      <td>2024-12-02</td>\n",
       "      <td>Extreme Greed</td>\n",
       "      <td>80.0</td>\n",
       "      <td>2024-12-02</td>\n",
       "      <td>Monday</td>\n",
       "      <td>Breakeven</td>\n",
       "      <td>0.0</td>\n",
       "      <td>22</td>\n",
       "      <td>Evening</td>\n",
       "    </tr>\n",
       "    <tr>\n",
       "      <th>1</th>\n",
       "      <td>0xae5eacaf9c6b9111fd53034a602c192a04e082ed</td>\n",
       "      <td>@107</td>\n",
       "      <td>7.9800</td>\n",
       "      <td>16.00</td>\n",
       "      <td>127.68</td>\n",
       "      <td>BUY</td>\n",
       "      <td>02-12-2024 22:50</td>\n",
       "      <td>986.524596</td>\n",
       "      <td>Buy</td>\n",
       "      <td>0.0</td>\n",
       "      <td>...</td>\n",
       "      <td>1.730000e+12</td>\n",
       "      <td>2024-12-02</td>\n",
       "      <td>Extreme Greed</td>\n",
       "      <td>80.0</td>\n",
       "      <td>2024-12-02</td>\n",
       "      <td>Monday</td>\n",
       "      <td>Breakeven</td>\n",
       "      <td>0.0</td>\n",
       "      <td>22</td>\n",
       "      <td>Evening</td>\n",
       "    </tr>\n",
       "    <tr>\n",
       "      <th>2</th>\n",
       "      <td>0xae5eacaf9c6b9111fd53034a602c192a04e082ed</td>\n",
       "      <td>@107</td>\n",
       "      <td>7.9855</td>\n",
       "      <td>144.09</td>\n",
       "      <td>1150.63</td>\n",
       "      <td>BUY</td>\n",
       "      <td>02-12-2024 22:50</td>\n",
       "      <td>1002.518996</td>\n",
       "      <td>Buy</td>\n",
       "      <td>0.0</td>\n",
       "      <td>...</td>\n",
       "      <td>1.730000e+12</td>\n",
       "      <td>2024-12-02</td>\n",
       "      <td>Extreme Greed</td>\n",
       "      <td>80.0</td>\n",
       "      <td>2024-12-02</td>\n",
       "      <td>Monday</td>\n",
       "      <td>Breakeven</td>\n",
       "      <td>0.0</td>\n",
       "      <td>22</td>\n",
       "      <td>Evening</td>\n",
       "    </tr>\n",
       "    <tr>\n",
       "      <th>3</th>\n",
       "      <td>0xae5eacaf9c6b9111fd53034a602c192a04e082ed</td>\n",
       "      <td>@107</td>\n",
       "      <td>7.9874</td>\n",
       "      <td>142.98</td>\n",
       "      <td>1142.04</td>\n",
       "      <td>BUY</td>\n",
       "      <td>02-12-2024 22:50</td>\n",
       "      <td>1146.558564</td>\n",
       "      <td>Buy</td>\n",
       "      <td>0.0</td>\n",
       "      <td>...</td>\n",
       "      <td>1.730000e+12</td>\n",
       "      <td>2024-12-02</td>\n",
       "      <td>Extreme Greed</td>\n",
       "      <td>80.0</td>\n",
       "      <td>2024-12-02</td>\n",
       "      <td>Monday</td>\n",
       "      <td>Breakeven</td>\n",
       "      <td>0.0</td>\n",
       "      <td>22</td>\n",
       "      <td>Evening</td>\n",
       "    </tr>\n",
       "    <tr>\n",
       "      <th>4</th>\n",
       "      <td>0xae5eacaf9c6b9111fd53034a602c192a04e082ed</td>\n",
       "      <td>@107</td>\n",
       "      <td>7.9894</td>\n",
       "      <td>8.73</td>\n",
       "      <td>69.75</td>\n",
       "      <td>BUY</td>\n",
       "      <td>02-12-2024 22:50</td>\n",
       "      <td>1289.488521</td>\n",
       "      <td>Buy</td>\n",
       "      <td>0.0</td>\n",
       "      <td>...</td>\n",
       "      <td>1.730000e+12</td>\n",
       "      <td>2024-12-02</td>\n",
       "      <td>Extreme Greed</td>\n",
       "      <td>80.0</td>\n",
       "      <td>2024-12-02</td>\n",
       "      <td>Monday</td>\n",
       "      <td>Breakeven</td>\n",
       "      <td>0.0</td>\n",
       "      <td>22</td>\n",
       "      <td>Evening</td>\n",
       "    </tr>\n",
       "  </tbody>\n",
       "</table>\n",
       "<p>5 rows × 25 columns</p>\n",
       "</div>"
      ],
      "text/plain": [
       "                                      Account  Coin  Execution Price  \\\n",
       "0  0xae5eacaf9c6b9111fd53034a602c192a04e082ed  @107           7.9769   \n",
       "1  0xae5eacaf9c6b9111fd53034a602c192a04e082ed  @107           7.9800   \n",
       "2  0xae5eacaf9c6b9111fd53034a602c192a04e082ed  @107           7.9855   \n",
       "3  0xae5eacaf9c6b9111fd53034a602c192a04e082ed  @107           7.9874   \n",
       "4  0xae5eacaf9c6b9111fd53034a602c192a04e082ed  @107           7.9894   \n",
       "\n",
       "   Size Tokens  Size USD Side     Timestamp IST  Start Position Direction  \\\n",
       "0       986.87   7872.16  BUY  02-12-2024 22:50        0.000000       Buy   \n",
       "1        16.00    127.68  BUY  02-12-2024 22:50      986.524596       Buy   \n",
       "2       144.09   1150.63  BUY  02-12-2024 22:50     1002.518996       Buy   \n",
       "3       142.98   1142.04  BUY  02-12-2024 22:50     1146.558564       Buy   \n",
       "4         8.73     69.75  BUY  02-12-2024 22:50     1289.488521       Buy   \n",
       "\n",
       "   Closed PnL  ...     Timestamp        Date  classification  value  \\\n",
       "0         0.0  ...  1.730000e+12  2024-12-02   Extreme Greed   80.0   \n",
       "1         0.0  ...  1.730000e+12  2024-12-02   Extreme Greed   80.0   \n",
       "2         0.0  ...  1.730000e+12  2024-12-02   Extreme Greed   80.0   \n",
       "3         0.0  ...  1.730000e+12  2024-12-02   Extreme Greed   80.0   \n",
       "4         0.0  ...  1.730000e+12  2024-12-02   Extreme Greed   80.0   \n",
       "\n",
       "     Date_dt  Day_of_Week PnL_Category PnL_per_USD  Hour_of_Day Time_Segment  \n",
       "0 2024-12-02       Monday    Breakeven         0.0           22      Evening  \n",
       "1 2024-12-02       Monday    Breakeven         0.0           22      Evening  \n",
       "2 2024-12-02       Monday    Breakeven         0.0           22      Evening  \n",
       "3 2024-12-02       Monday    Breakeven         0.0           22      Evening  \n",
       "4 2024-12-02       Monday    Breakeven         0.0           22      Evening  \n",
       "\n",
       "[5 rows x 25 columns]"
      ]
     },
     "execution_count": 38,
     "metadata": {},
     "output_type": "execute_result"
    }
   ],
   "source": [
    "df_merged.head()"
   ]
  },
  {
   "cell_type": "code",
   "execution_count": null,
   "id": "69279910-fb4e-490d-ada4-3fd672b33830",
   "metadata": {},
   "outputs": [],
   "source": []
  },
  {
   "cell_type": "markdown",
   "id": "87be5896-8e08-421a-baeb-ca374a4446be",
   "metadata": {},
   "source": [
    "##  Exploratory Data Analysis (EDA)"
   ]
  },
  {
   "cell_type": "code",
   "execution_count": 39,
   "id": "7ef22445-9cf0-4496-a859-e0a956bf2a87",
   "metadata": {},
   "outputs": [],
   "source": [
    "import matplotlib.pyplot as plt\n",
    "import seaborn as sns\n",
    "import numpy as np"
   ]
  },
  {
   "cell_type": "code",
   "execution_count": 40,
   "id": "ace28959-c8b2-4de8-8e45-dfb3cf3fa3fa",
   "metadata": {},
   "outputs": [
    {
     "data": {
      "text/plain": [
       "<Figure size 1800x1500 with 0 Axes>"
      ]
     },
     "execution_count": 40,
     "metadata": {},
     "output_type": "execute_result"
    },
    {
     "data": {
      "text/plain": [
       "<Figure size 1800x1500 with 0 Axes>"
      ]
     },
     "metadata": {},
     "output_type": "display_data"
    }
   ],
   "source": [
    "# Create a figure to hold multiple plots\n",
    "plt.figure(figsize=(18, 15))"
   ]
  },
  {
   "cell_type": "code",
   "execution_count": 43,
   "id": "8df5111f-2922-42f4-9f82-cead7d3a161b",
   "metadata": {},
   "outputs": [
    {
     "data": {
      "text/plain": [
       "(array([0, 1, 2, 3, 4]),\n",
       " [Text(0, 0, 'Fear'),\n",
       "  Text(1, 0, 'Greed'),\n",
       "  Text(2, 0, 'Extreme Greed'),\n",
       "  Text(3, 0, 'Neutral'),\n",
       "  Text(4, 0, 'Extreme Fear')])"
      ]
     },
     "execution_count": 43,
     "metadata": {},
     "output_type": "execute_result"
    },
    {
     "data": {
      "image/png": "[encoded data removed]",
      "text/plain": [
       "<Figure size 640x480 with 1 Axes>"
      ]
     },
     "metadata": {},
     "output_type": "display_data"
    }
   ],
   "source": [
    "# --- 1. Distribution of Market Sentiment ---\n",
    "\n",
    "sns.countplot(data=df_merged, x='classification', order=df_merged['classification'].value_counts().index, palette='viridis')\n",
    "plt.title('1. Distribution of Market Sentiment (Trade Counts)')\n",
    "plt.xlabel('Sentiment Classification')\n",
    "plt.ylabel('Number of Trades')\n",
    "plt.xticks(rotation=45, ha='right')"
   ]
  },
  {
   "cell_type": "code",
   "execution_count": 45,
   "id": "3b8a3ca5-c1e4-4c72-bf70-5e7b02b1947e",
   "metadata": {},
   "outputs": [
    {
     "name": "stderr",
     "output_type": "stream",
     "text": [
      "C:\\Users\\pawan\\anaconda3\\Lib\\site-packages\\seaborn\\_oldcore.py:1119: FutureWarning: use_inf_as_na option is deprecated and will be removed in a future version. Convert inf values to NaN before operating instead.\n",
      "  with pd.option_context('mode.use_inf_as_na', True):\n"
     ]
    },
    {
     "data": {
      "text/plain": [
       "<matplotlib.legend.Legend at 0x1ad0ef603d0>"
      ]
     },
     "execution_count": 45,
     "metadata": {},
     "output_type": "execute_result"
    },
    {
     "data": {
      "image/png": "[encoded data removed]",
      "text/plain": [
       "<Figure size 640x480 with 1 Axes>"
      ]
     },
     "metadata": {},
     "output_type": "display_data"
    }
   ],
   "source": [
    "# --- 2. Overall Closed PnL Distribution ---\n",
    "\n",
    "sns.histplot(df_merged['Closed PnL'], bins=100, kde=True, color='skyblue')\n",
    "plt.title('2. Distribution of Closed PnL')\n",
    "plt.xlabel('Closed PnL')\n",
    "plt.ylabel('Frequency')\n",
    "# Using a log scale for y-axis is often useful if there are many small values and few large outliers\n",
    "plt.yscale('log')\n",
    "plt.axvline(0, color='red', linestyle='--', label='Breakeven')\n",
    "plt.legend()"
   ]
  },
  {
   "cell_type": "code",
   "execution_count": 49,
   "id": "22a6e92c-ca5d-4c17-b763-24e1ac22a43f",
   "metadata": {},
   "outputs": [
    {
     "data": {
      "text/plain": [
       "(array([0, 1, 2, 3, 4]),\n",
       " [Text(0, 0, 'Extreme Greed'),\n",
       "  Text(1, 0, 'Fear'),\n",
       "  Text(2, 0, 'Greed'),\n",
       "  Text(3, 0, 'Extreme Fear'),\n",
       "  Text(4, 0, 'Neutral')])"
      ]
     },
     "execution_count": 49,
     "metadata": {},
     "output_type": "execute_result"
    },
    {
     "data": {
      "image/png": "[encoded data removed]",
      "text/plain": [
       "<Figure size 640x480 with 1 Axes>"
      ]
     },
     "metadata": {},
     "output_type": "display_data"
    }
   ],
   "source": [
    "# --- 3. Average Closed PnL by Sentiment Classification ---\n",
    "avg_pnl_by_sentiment = df_merged.groupby('classification')['Closed PnL'].mean().sort_values(ascending=False)\n",
    "sns.barplot(x=avg_pnl_by_sentiment.index, y=avg_pnl_by_sentiment.values, palette='coolwarm')\n",
    "plt.title('3. Average Closed PnL by Sentiment Classification')\n",
    "plt.xlabel('Sentiment Classification')\n",
    "plt.ylabel('Average Closed PnL')\n",
    "plt.xticks(rotation=45, ha='right')"
   ]
  },
  {
   "cell_type": "code",
   "execution_count": 51,
   "id": "f5bfd025-35b1-4c20-a7c9-d00cc382ea6e",
   "metadata": {},
   "outputs": [
    {
     "data": {
      "text/plain": [
       "(array([0, 1, 2, 3, 4]),\n",
       " [Text(0, 0, 'Extreme Greed'),\n",
       "  Text(1, 0, 'Fear'),\n",
       "  Text(2, 0, 'Neutral'),\n",
       "  Text(3, 0, 'Greed'),\n",
       "  Text(4, 0, 'Extreme Fear')])"
      ]
     },
     "execution_count": 51,
     "metadata": {},
     "output_type": "execute_result"
    },
    {
     "data": {
      "image/png": "[encoded data removed]",
      "text/plain": [
       "<Figure size 640x480 with 1 Axes>"
      ]
     },
     "metadata": {},
     "output_type": "display_data"
    }
   ],
   "source": [
    "# --- 4. Win Rate (Percentage of Profitable Trades) by Sentiment Classification ---\n",
    "total_trades_by_sentiment = df_merged.groupby('classification').size()\n",
    "profitable_trades_by_sentiment = df_merged[df_merged['PnL_Category'] == 'Profitable'].groupby('classification').size()\n",
    "# Calculate win rate, handling potential division by zero if a sentiment had no trades\n",
    "win_rate_by_sentiment = (profitable_trades_by_sentiment / total_trades_by_sentiment) * 100\n",
    "win_rate_by_sentiment = win_rate_by_sentiment.sort_values(ascending=False).fillna(0) # Fill NaN with 0 for cases with no profitable trades\n",
    "\n",
    "sns.barplot(x=win_rate_by_sentiment.index, y=win_rate_by_sentiment.values, palette='magma')\n",
    "plt.title('4. Win Rate (%) by Sentiment Classification')\n",
    "plt.xlabel('Sentiment Classification')\n",
    "plt.ylabel('Win Rate (%)')\n",
    "plt.xticks(rotation=45, ha='right')\n"
   ]
  },
  {
   "cell_type": "code",
   "execution_count": 52,
   "id": "4390d55e-046f-4553-aceb-8f91915c3e67",
   "metadata": {},
   "outputs": [
    {
     "data": {
      "text/plain": [
       "(array([0, 1, 2, 3, 4]),\n",
       " [Text(0, 0, 'Extreme Greed'),\n",
       "  Text(1, 0, 'Greed'),\n",
       "  Text(2, 0, 'Fear'),\n",
       "  Text(3, 0, 'Neutral'),\n",
       "  Text(4, 0, 'Extreme Fear')])"
      ]
     },
     "execution_count": 52,
     "metadata": {},
     "output_type": "execute_result"
    },
    {
     "data": {
      "image/png": "[encoded data removed]",
      "text/plain": [
       "<Figure size 640x480 with 1 Axes>"
      ]
     },
     "metadata": {},
     "output_type": "display_data"
    }
   ],
   "source": [
    "# --- 5. Average PnL per USD by Sentiment Classification ---\n",
    "avg_pnl_per_usd_by_sentiment = df_merged.groupby('classification')['PnL_per_USD'].mean().sort_values(ascending=False)\n",
    "sns.barplot(x=avg_pnl_per_usd_by_sentiment.index, y=avg_pnl_per_usd_by_sentiment.values, palette='viridis')\n",
    "plt.title('5. Average PnL per USD by Sentiment Classification')\n",
    "plt.xlabel('Sentiment Classification')\n",
    "plt.ylabel('Average PnL per USD')\n",
    "plt.xticks(rotation=45, ha='right')"
   ]
  },
  {
   "cell_type": "code",
   "execution_count": 62,
   "id": "037a6e97-28e7-4627-b6b7-c07732f8e075",
   "metadata": {},
   "outputs": [
    {
     "name": "stdout",
     "output_type": "stream",
     "text": [
      "\n",
      "--- Detailed PnL Statistics by Sentiment Classification ---\n"
     ]
    },
    {
     "data": {
      "text/html": [
       "<div>\n",
       "<style scoped>\n",
       "    .dataframe tbody tr th:only-of-type {\n",
       "        vertical-align: middle;\n",
       "    }\n",
       "\n",
       "    .dataframe tbody tr th {\n",
       "        vertical-align: top;\n",
       "    }\n",
       "\n",
       "    .dataframe thead th {\n",
       "        text-align: right;\n",
       "    }\n",
       "</style>\n",
       "<table border=\"1\" class=\"dataframe\">\n",
       "  <thead>\n",
       "    <tr style=\"text-align: right;\">\n",
       "      <th></th>\n",
       "      <th>count</th>\n",
       "      <th>mean</th>\n",
       "      <th>std</th>\n",
       "      <th>min</th>\n",
       "      <th>25%</th>\n",
       "      <th>50%</th>\n",
       "      <th>75%</th>\n",
       "      <th>max</th>\n",
       "    </tr>\n",
       "    <tr>\n",
       "      <th>classification</th>\n",
       "      <th></th>\n",
       "      <th></th>\n",
       "      <th></th>\n",
       "      <th></th>\n",
       "      <th></th>\n",
       "      <th></th>\n",
       "      <th></th>\n",
       "      <th></th>\n",
       "    </tr>\n",
       "  </thead>\n",
       "  <tbody>\n",
       "    <tr>\n",
       "      <th>Extreme Fear</th>\n",
       "      <td>21400.0</td>\n",
       "      <td>34.537862</td>\n",
       "      <td>1136.056091</td>\n",
       "      <td>-31036.69194</td>\n",
       "      <td>0.0</td>\n",
       "      <td>0.0</td>\n",
       "      <td>5.635032</td>\n",
       "      <td>115287.00000</td>\n",
       "    </tr>\n",
       "    <tr>\n",
       "      <th>Extreme Greed</th>\n",
       "      <td>39992.0</td>\n",
       "      <td>67.892861</td>\n",
       "      <td>766.828294</td>\n",
       "      <td>-10259.46800</td>\n",
       "      <td>0.0</td>\n",
       "      <td>0.0</td>\n",
       "      <td>10.028709</td>\n",
       "      <td>44223.45187</td>\n",
       "    </tr>\n",
       "    <tr>\n",
       "      <th>Fear</th>\n",
       "      <td>61837.0</td>\n",
       "      <td>54.290400</td>\n",
       "      <td>935.355438</td>\n",
       "      <td>-35681.74723</td>\n",
       "      <td>0.0</td>\n",
       "      <td>0.0</td>\n",
       "      <td>5.590856</td>\n",
       "      <td>135329.09010</td>\n",
       "    </tr>\n",
       "    <tr>\n",
       "      <th>Greed</th>\n",
       "      <td>50303.0</td>\n",
       "      <td>42.743559</td>\n",
       "      <td>1116.028390</td>\n",
       "      <td>-117990.10410</td>\n",
       "      <td>0.0</td>\n",
       "      <td>0.0</td>\n",
       "      <td>4.944105</td>\n",
       "      <td>74530.52371</td>\n",
       "    </tr>\n",
       "    <tr>\n",
       "      <th>Neutral</th>\n",
       "      <td>37686.0</td>\n",
       "      <td>34.307718</td>\n",
       "      <td>517.122220</td>\n",
       "      <td>-24500.00000</td>\n",
       "      <td>0.0</td>\n",
       "      <td>0.0</td>\n",
       "      <td>3.995795</td>\n",
       "      <td>48504.09555</td>\n",
       "    </tr>\n",
       "  </tbody>\n",
       "</table>\n",
       "</div>"
      ],
      "text/plain": [
       "                  count       mean          std           min  25%  50%  \\\n",
       "classification                                                            \n",
       "Extreme Fear    21400.0  34.537862  1136.056091  -31036.69194  0.0  0.0   \n",
       "Extreme Greed   39992.0  67.892861   766.828294  -10259.46800  0.0  0.0   \n",
       "Fear            61837.0  54.290400   935.355438  -35681.74723  0.0  0.0   \n",
       "Greed           50303.0  42.743559  1116.028390 -117990.10410  0.0  0.0   \n",
       "Neutral         37686.0  34.307718   517.122220  -24500.00000  0.0  0.0   \n",
       "\n",
       "                      75%           max  \n",
       "classification                           \n",
       "Extreme Fear     5.635032  115287.00000  \n",
       "Extreme Greed   10.028709   44223.45187  \n",
       "Fear             5.590856  135329.09010  \n",
       "Greed            4.944105   74530.52371  \n",
       "Neutral          3.995795   48504.09555  "
      ]
     },
     "execution_count": 62,
     "metadata": {},
     "output_type": "execute_result"
    }
   ],
   "source": [
    "# --- Additional Summary Statistics (Textual Output) ---\n",
    "print(\"\\n--- Detailed PnL Statistics by Sentiment Classification ---\")\n",
    "df_merged.groupby('classification')['Closed PnL'].describe()"
   ]
  },
  {
   "cell_type": "code",
   "execution_count": 61,
   "id": "46805a32-c406-4cf9-a972-057dd0d43d17",
   "metadata": {},
   "outputs": [
    {
     "name": "stdout",
     "output_type": "stream",
     "text": [
      "\n",
      "--- PnL Category Distribution (%) by Sentiment Classification ---\n"
     ]
    },
    {
     "data": {
      "text/html": [
       "<div>\n",
       "<style scoped>\n",
       "    .dataframe tbody tr th:only-of-type {\n",
       "        vertical-align: middle;\n",
       "    }\n",
       "\n",
       "    .dataframe tbody tr th {\n",
       "        vertical-align: top;\n",
       "    }\n",
       "\n",
       "    .dataframe thead th {\n",
       "        text-align: right;\n",
       "    }\n",
       "</style>\n",
       "<table border=\"1\" class=\"dataframe\">\n",
       "  <thead>\n",
       "    <tr style=\"text-align: right;\">\n",
       "      <th>PnL_Category</th>\n",
       "      <th>Breakeven</th>\n",
       "      <th>Loss-making</th>\n",
       "      <th>Profitable</th>\n",
       "    </tr>\n",
       "    <tr>\n",
       "      <th>classification</th>\n",
       "      <th></th>\n",
       "      <th></th>\n",
       "      <th></th>\n",
       "    </tr>\n",
       "  </thead>\n",
       "  <tbody>\n",
       "    <tr>\n",
       "      <th>Extreme Fear</th>\n",
       "      <td>51.373832</td>\n",
       "      <td>11.565421</td>\n",
       "      <td>37.060748</td>\n",
       "    </tr>\n",
       "    <tr>\n",
       "      <th>Extreme Greed</th>\n",
       "      <td>47.857071</td>\n",
       "      <td>5.648630</td>\n",
       "      <td>46.494299</td>\n",
       "    </tr>\n",
       "    <tr>\n",
       "      <th>Fear</th>\n",
       "      <td>51.795850</td>\n",
       "      <td>6.127399</td>\n",
       "      <td>42.076750</td>\n",
       "    </tr>\n",
       "    <tr>\n",
       "      <th>Greed</th>\n",
       "      <td>49.951295</td>\n",
       "      <td>11.565911</td>\n",
       "      <td>38.482794</td>\n",
       "    </tr>\n",
       "    <tr>\n",
       "      <th>Neutral</th>\n",
       "      <td>51.814998</td>\n",
       "      <td>8.485910</td>\n",
       "      <td>39.699093</td>\n",
       "    </tr>\n",
       "  </tbody>\n",
       "</table>\n",
       "</div>"
      ],
      "text/plain": [
       "PnL_Category    Breakeven  Loss-making  Profitable\n",
       "classification                                    \n",
       "Extreme Fear    51.373832    11.565421   37.060748\n",
       "Extreme Greed   47.857071     5.648630   46.494299\n",
       "Fear            51.795850     6.127399   42.076750\n",
       "Greed           49.951295    11.565911   38.482794\n",
       "Neutral         51.814998     8.485910   39.699093"
      ]
     },
     "execution_count": 61,
     "metadata": {},
     "output_type": "execute_result"
    }
   ],
   "source": [
    "print(\"\\n--- PnL Category Distribution (%) by Sentiment Classification ---\")\n",
    "# Normalize to show percentages, unstack for better readability\n",
    "pnl_category_by_sentiment = df_merged.groupby('classification')['PnL_Category'].value_counts(normalize=True).unstack().fillna(0) * 100\n",
    "pnl_category_by_sentiment"
   ]
  },
  {
   "cell_type": "code",
   "execution_count": 59,
   "id": "bb451263-88c8-46bc-93df-afd0bf8d049e",
   "metadata": {},
   "outputs": [
    {
     "name": "stdout",
     "output_type": "stream",
     "text": [
      "\n",
      "--- Average PnL_per_USD Statistics by Sentiment Classification ---\n"
     ]
    },
    {
     "data": {
      "text/html": [
       "<div>\n",
       "<style scoped>\n",
       "    .dataframe tbody tr th:only-of-type {\n",
       "        vertical-align: middle;\n",
       "    }\n",
       "\n",
       "    .dataframe tbody tr th {\n",
       "        vertical-align: top;\n",
       "    }\n",
       "\n",
       "    .dataframe thead th {\n",
       "        text-align: right;\n",
       "    }\n",
       "</style>\n",
       "<table border=\"1\" class=\"dataframe\">\n",
       "  <thead>\n",
       "    <tr style=\"text-align: right;\">\n",
       "      <th></th>\n",
       "      <th>count</th>\n",
       "      <th>mean</th>\n",
       "      <th>std</th>\n",
       "      <th>min</th>\n",
       "      <th>25%</th>\n",
       "      <th>50%</th>\n",
       "      <th>75%</th>\n",
       "      <th>max</th>\n",
       "    </tr>\n",
       "    <tr>\n",
       "      <th>classification</th>\n",
       "      <th></th>\n",
       "      <th></th>\n",
       "      <th></th>\n",
       "      <th></th>\n",
       "      <th></th>\n",
       "      <th></th>\n",
       "      <th></th>\n",
       "      <th></th>\n",
       "    </tr>\n",
       "  </thead>\n",
       "  <tbody>\n",
       "    <tr>\n",
       "      <th>Extreme Fear</th>\n",
       "      <td>21400.0</td>\n",
       "      <td>0.004321</td>\n",
       "      <td>0.095705</td>\n",
       "      <td>-1.435997</td>\n",
       "      <td>0.0</td>\n",
       "      <td>0.0</td>\n",
       "      <td>0.008771</td>\n",
       "      <td>3.403550</td>\n",
       "    </tr>\n",
       "    <tr>\n",
       "      <th>Extreme Greed</th>\n",
       "      <td>39992.0</td>\n",
       "      <td>0.040015</td>\n",
       "      <td>1.929376</td>\n",
       "      <td>-384.406426</td>\n",
       "      <td>0.0</td>\n",
       "      <td>0.0</td>\n",
       "      <td>0.029008</td>\n",
       "      <td>1.000357</td>\n",
       "    </tr>\n",
       "    <tr>\n",
       "      <th>Fear</th>\n",
       "      <td>61837.0</td>\n",
       "      <td>0.015409</td>\n",
       "      <td>0.072819</td>\n",
       "      <td>-1.361753</td>\n",
       "      <td>0.0</td>\n",
       "      <td>0.0</td>\n",
       "      <td>0.007346</td>\n",
       "      <td>2.604130</td>\n",
       "    </tr>\n",
       "    <tr>\n",
       "      <th>Greed</th>\n",
       "      <td>50303.0</td>\n",
       "      <td>0.019646</td>\n",
       "      <td>0.099614</td>\n",
       "      <td>-3.100918</td>\n",
       "      <td>0.0</td>\n",
       "      <td>0.0</td>\n",
       "      <td>0.010610</td>\n",
       "      <td>1.487955</td>\n",
       "    </tr>\n",
       "    <tr>\n",
       "      <th>Neutral</th>\n",
       "      <td>37686.0</td>\n",
       "      <td>0.009936</td>\n",
       "      <td>0.175546</td>\n",
       "      <td>-23.359398</td>\n",
       "      <td>0.0</td>\n",
       "      <td>0.0</td>\n",
       "      <td>0.007872</td>\n",
       "      <td>1.366625</td>\n",
       "    </tr>\n",
       "  </tbody>\n",
       "</table>\n",
       "</div>"
      ],
      "text/plain": [
       "                  count      mean       std         min  25%  50%       75%  \\\n",
       "classification                                                                \n",
       "Extreme Fear    21400.0  0.004321  0.095705   -1.435997  0.0  0.0  0.008771   \n",
       "Extreme Greed   39992.0  0.040015  1.929376 -384.406426  0.0  0.0  0.029008   \n",
       "Fear            61837.0  0.015409  0.072819   -1.361753  0.0  0.0  0.007346   \n",
       "Greed           50303.0  0.019646  0.099614   -3.100918  0.0  0.0  0.010610   \n",
       "Neutral         37686.0  0.009936  0.175546  -23.359398  0.0  0.0  0.007872   \n",
       "\n",
       "                     max  \n",
       "classification            \n",
       "Extreme Fear    3.403550  \n",
       "Extreme Greed   1.000357  \n",
       "Fear            2.604130  \n",
       "Greed           1.487955  \n",
       "Neutral         1.366625  "
      ]
     },
     "execution_count": 59,
     "metadata": {},
     "output_type": "execute_result"
    }
   ],
   "source": [
    "print(\"\\n--- Average PnL_per_USD Statistics by Sentiment Classification ---\")\n",
    "df_merged.groupby('classification')['PnL_per_USD'].describe()"
   ]
  },
  {
   "cell_type": "code",
   "execution_count": null,
   "id": "cf0c0902-f8e9-4c59-99cc-d032402b41d3",
   "metadata": {},
   "outputs": [],
   "source": []
  }
 ],
 "metadata": {
  "kernelspec": {
   "display_name": "Python 3 (ipykernel)",
   "language": "python",
   "name": "python3"
  },
  "language_info": {
   "codemirror_mode": {
    "name": "ipython",
    "version": 3
   },
   "file_extension": ".py",
   "mimetype": "text/x-python",
   "name": "python",
   "nbconvert_exporter": "python",
   "pygments_lexer": "ipython3",
   "version": "3.11.7"
  }
 },
 "nbformat": 4,
 "nbformat_minor": 5
}
